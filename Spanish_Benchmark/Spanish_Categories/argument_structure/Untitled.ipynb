{
 "cells": [
  {
   "cell_type": "code",
   "execution_count": 10,
   "metadata": {},
   "outputs": [
    {
     "name": "stdout",
     "output_type": "stream",
     "text": [
      "1636        abrazan\n",
      "1694          abren\n",
      "1793       se abren\n",
      "1836        aburren\n",
      "1935     se aburren\n",
      "            ...    \n",
      "23141        se ven\n",
      "23194       visitan\n",
      "23298       vuelcan\n",
      "23375       vuelven\n",
      "23433    se vuelven\n",
      "Name: expression, Length: 192, dtype: object\n"
     ]
    }
   ],
   "source": [
    "from Spanish_Utils.vocab_sets import *\n",
    "from Spanish_Utils.randomize import *\n",
    "from Spanish_Utils.string_utils import *\n",
    "import pandas as pd\n",
    "import numpy as np\n",
    "import random\n",
    "all_p3ip_anim_anim_verbs = vocab['expression'].loc[(vocab['pos'] == 'V') & (vocab['tense'] == 'PRS') & (vocab['person'] == 3) & (vocab['mood'] == 'IND') & (vocab['number'] == 'PL') & (vocab['category_2'] == 'TV')(vocab['arg_1'].str.contains('animate=1')==True) & (vocab['arg_2'].str.contains('animate=1')==True)]\n",
    "print(all_p3ip_anim_anim_verbs)"
   ]
  }
 ],
 "metadata": {
  "kernelspec": {
   "display_name": "Python 3",
   "language": "python",
   "name": "python3"
  },
  "language_info": {
   "codemirror_mode": {
    "name": "ipython",
    "version": 3
   },
   "file_extension": ".py",
   "mimetype": "text/x-python",
   "name": "python",
   "nbconvert_exporter": "python",
   "pygments_lexer": "ipython3",
   "version": "3.7.4"
  }
 },
 "nbformat": 4,
 "nbformat_minor": 2
}
