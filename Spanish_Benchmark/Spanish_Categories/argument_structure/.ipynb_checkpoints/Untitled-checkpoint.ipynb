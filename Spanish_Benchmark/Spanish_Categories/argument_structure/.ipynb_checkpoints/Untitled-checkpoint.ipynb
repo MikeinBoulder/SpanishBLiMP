{
 "cells": [
  {
   "cell_type": "code",
   "execution_count": 11,
   "metadata": {},
   "outputs": [
    {
     "name": "stdout",
     "output_type": "stream",
     "text": [
      "2147      se acercan\n",
      "2332         admiran\n",
      "2545         agravan\n",
      "2689         alarman\n",
      "3686        asombran\n",
      "3757         asustan\n",
      "3897          atacan\n",
      "4112          ayudan\n",
      "4396           besan\n",
      "6240       confunden\n",
      "6314     conmocionan\n",
      "6377         conocen\n",
      "7593      cuestionan\n",
      "7664          cuidan\n",
      "16981          notan\n",
      "17123       observan\n",
      "17405          odian\n",
      "23141         se ven\n",
      "23194        visitan\n",
      "23375        vuelven\n",
      "Name: expression, dtype: object\n"
     ]
    }
   ],
   "source": [
    "from Spanish_Utils.vocab_sets import *\n",
    "from Spanish_Utils.randomize import *\n",
    "from Spanish_Utils.string_utils import *\n",
    "import pandas as pd\n",
    "import numpy as np\n",
    "import random\n",
    "all_p3ip_anim_anim_verbs = vocab['expression'].loc[(vocab['pos'] == 'V') & (vocab['tense'] == 'PRS') & (vocab['person'] == 3) & (vocab['mood'] == 'IND') & (vocab['number'] == 'PL') & (vocab['category_2'] == 'TV') & (vocab['arg_1'].str.contains('animate=1')==True) & (vocab['arg_2'].str.contains('animate=1')==True)]\n",
    "print(all_p3ip_anim_anim_verbs)"
   ]
  }
 ],
 "metadata": {
  "kernelspec": {
   "display_name": "Python 3",
   "language": "python",
   "name": "python3"
  },
  "language_info": {
   "codemirror_mode": {
    "name": "ipython",
    "version": 3
   },
   "file_extension": ".py",
   "mimetype": "text/x-python",
   "name": "python",
   "nbconvert_exporter": "python",
   "pygments_lexer": "ipython3",
   "version": "3.7.4"
  }
 },
 "nbformat": 4,
 "nbformat_minor": 2
}
