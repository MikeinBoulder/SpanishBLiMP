{
 "cells": [
  {
   "cell_type": "code",
   "execution_count": 9,
   "metadata": {},
   "outputs": [
    {
     "name": "stdout",
     "output_type": "stream",
     "text": [
      "1636        abrazan\n",
      "1666         abraza\n",
      "1694          abren\n",
      "1696           abre\n",
      "1793       se abren\n",
      "            ...    \n",
      "23300        vuelca\n",
      "23375       vuelven\n",
      "23377        vuelve\n",
      "23433    se vuelven\n",
      "23434     se vuelve\n",
      "Name: expression, Length: 383, dtype: object\n"
     ]
    }
   ],
   "source": [
    "from Spanish_Utils.vocab_sets import *\n",
    "from Spanish_Utils.randomize import *\n",
    "from Spanish_Utils.string_utils import *\n",
    "import pandas as pd\n",
    "import numpy as np\n",
    "import random\n",
    "all_p3ip_anim_anim_verbs = vocab['expression'].loc[(vocab['pos'] == 'V') & (vocab['tense'] == 'PRS') & (vocab['person'] == 3) & (vocab['mood'] == 'IND') & (vocab['number'] == 'PL')]# & (vocab['category_2'] == 'TV')(vocab['arg_1'].str.contains('animate=1')==True) & (vocab['arg_2'].str.contains('animate=1')==True)]\n",
    "print(all_p3ip_anim_anim_verbs)"
   ]
  }
 ],
 "metadata": {
  "kernelspec": {
   "display_name": "Python 3",
   "language": "python",
   "name": "python3"
  },
  "language_info": {
   "codemirror_mode": {
    "name": "ipython",
    "version": 3
   },
   "file_extension": ".py",
   "mimetype": "text/x-python",
   "name": "python",
   "nbconvert_exporter": "python",
   "pygments_lexer": "ipython3",
   "version": "3.7.4"
  }
 },
 "nbformat": 4,
 "nbformat_minor": 2
}
